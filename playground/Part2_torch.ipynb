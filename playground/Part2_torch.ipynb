{
 "cells": [
  {
   "cell_type": "markdown",
   "id": "fa9ce379",
   "metadata": {},
   "source": [
    "## Problem statement"
   ]
  },
  {
   "cell_type": "markdown",
   "id": "9ebb95bd",
   "metadata": {},
   "source": [
    "$$ \\frac{\\partial }{\\partial x*} \\left(  ( 1 + \\epsilon_c \\theta )  \\frac{\\partial \\theta }{\\partial x*} \\right)   - N^2 \\theta + N^2 G ( 1 + \\epsilon_G \\theta ) = 0   $$ \n",
    "\n",
    "#### Where: \n",
    "\n",
    "- $\\theta(x) = \\dfrac{T(x) - T_\\inf}{T_{b} - T_{\\inf}}$\n",
    "\n",
    "\n",
    "- $N = \\sqrt{\\dfrac{h P L^2}{ k_0 A }} $\n",
    "\n",
    "\n",
    "- $G=\\dfrac{q_0A}{hP(T_b-T_\\inf)}$\n",
    "\n",
    "\n",
    "- $\\epsilon_G=\\epsilon(T_b-T_\\inf)$\n",
    "\n",
    "\n",
    "- $\\epsilon_C=\\beta(T_b-T_\\inf)$\n",
    "\n",
    "#### and the boundary conditions are:\n",
    "\n",
    "- at $x^* = 0 \\rightarrow \\theta = 1$\n",
    "\n",
    "- at $x^* = 1 \\rightarrow \\dfrac{d\\theta}{dx^*} = 0$\n",
    "\n",
    "\n",
    "**Given a sample which contains 9 values of $x$ and $\\theta$ predict $G$** "
   ]
  },
  {
   "cell_type": "markdown",
   "id": "d4bcf210",
   "metadata": {},
   "source": [
    "## Import libraries "
   ]
  },
  {
   "cell_type": "code",
   "execution_count": 1,
   "id": "513fe630",
   "metadata": {},
   "outputs": [],
   "source": [
    "import torch\n",
    "import torch.autograd as autograd         # computation graph\n",
    "from torch import Tensor                  # tensor node in the computation graph\n",
    "import torch.nn as nn                     # neural networks\n",
    "import torch.optim as optim               # optimizers e.g. gradient descent, ADAM, etc.\n",
    "\n",
    "import pandas as pd\n",
    "import matplotlib.pyplot as plt\n",
    "# import matplotlib.gridspec as gridspec\n",
    "# from mpl_toolkits.axes_grid1 import make_axes_locatable\n",
    "# from mpl_toolkits.mplot3d import Axes3D\n",
    "# import matplotlib.ticker\n",
    "# from sklearn.model_selection import train_test_split\n",
    "\n",
    "import numpy as np\n",
    "import time\n",
    "import scipy.io"
   ]
  },
  {
   "cell_type": "markdown",
   "id": "8c20f37f",
   "metadata": {},
   "source": [
    "## Set random seed and select device"
   ]
  },
  {
   "cell_type": "code",
   "execution_count": 2,
   "id": "102276aa",
   "metadata": {},
   "outputs": [
    {
     "name": "stdout",
     "output_type": "stream",
     "text": [
      "Devuce employed: cpu\n"
     ]
    }
   ],
   "source": [
    "#Set default dtype to float32\n",
    "torch.set_default_dtype(torch.float)\n",
    "\n",
    "#PyTorch random number generator\n",
    "torch.manual_seed(1234)\n",
    "\n",
    "# Random number generators in other libraries\n",
    "np.random.seed(1234)\n",
    "\n",
    "# Device configuration\n",
    "device = torch.device('cuda' if torch.cuda.is_available() else 'cpu')\n",
    "if device == 'cuda': \n",
    "    print(torch.cuda.get_device_name())\n",
    "    \n",
    "device = 'cpu'\n",
    "print('Devuce employed:', device)"
   ]
  },
  {
   "cell_type": "markdown",
   "id": "a2c0cf47",
   "metadata": {},
   "source": [
    "## Load data"
   ]
  },
  {
   "cell_type": "code",
   "execution_count": 3,
   "id": "ad72fca9",
   "metadata": {
    "scrolled": true
   },
   "outputs": [
    {
     "name": "stdout",
     "output_type": "stream",
     "text": [
      "Theta real shape is: torch.Size([9, 1])\n",
      "X real shape is: (9, 1)\n",
      "G_real is: [[0.70303543]]\n",
      "lb is 0.00 and ub is 1.00\n",
      "The number real points are 9\n",
      "float32\n",
      "torch.float32\n"
     ]
    }
   ],
   "source": [
    "## Load dataset\n",
    "relative_csv_path = \"./../src/data/raw/Dataset.csv\"\n",
    "split_ratio = 0.2\n",
    "\n",
    "# Load a random sample\n",
    "fields_G = ['G']\n",
    "fields_T = ['T1', 'T2', 'T3', 'T4' ,'T5', 'T6' ,'T7', 'T8' ,'T9']\n",
    "fields = fields_T + fields_G\n",
    "df_T = pd.read_csv(relative_csv_path, skipinitialspace=True, usecols=fields)\n",
    "random_sample = df_T.sample()\n",
    "G_real = random_sample[fields_G].to_numpy()\n",
    "T_real = random_sample[fields_T].to_numpy()\n",
    "X_real = np.linspace(0,1,T_real.shape[1]).reshape(-1,1)\n",
    "X_real = X_real.astype(np.float32)\n",
    "\n",
    "# compute theta \n",
    "T_inf = 27 + 273 #in K\n",
    "T_b = 127 + 273 #in K\n",
    "Theta_real = np.multiply(np.add(T_real, [-T_inf]), [1/(T_b - T_inf)]).T\n",
    "Theta_real = Theta_real.astype(np.float32)\n",
    "Theta_real = torch.from_numpy(Theta_real)\n",
    "# prin shapes \n",
    "print('Theta real shape is:',Theta_real.shape)\n",
    "print('X real shape is:',X_real.shape)\n",
    "print('G_real is:',G_real)\n",
    "\n",
    "# lower and uper bounds to normalize the input of net U\n",
    "lb = min(X_real)\n",
    "ub = max(X_real)\n",
    "print('lb is %.2f and ub is %.2f' % (lb,ub))\n",
    "N_u = Theta_real.shape[0]\n",
    "print(\"The number real points are\", N_u)\n",
    "print(X_real.dtype)\n",
    "print(Theta_real.dtype)"
   ]
  },
  {
   "cell_type": "markdown",
   "id": "ec94d872",
   "metadata": {},
   "source": [
    "### Collocation points ($loss_f$)"
   ]
  },
  {
   "cell_type": "code",
   "execution_count": 4,
   "id": "2d1f0caf",
   "metadata": {},
   "outputs": [
    {
     "name": "stdout",
     "output_type": "stream",
     "text": [
      "The number of collocation points are 9\n"
     ]
    }
   ],
   "source": [
    "N_f = 9 #Total number of collocation points \n",
    "f_hat = torch.zeros(N_f,1).to(device)\n",
    "print(\"The number of collocation points are\", N_f)\n",
    "offset = .0001\n",
    "X_train_f = torch.linspace(lb[0] + offset,ub[0] - offset,N_f).reshape(-1,1)"
   ]
  },
  {
   "cell_type": "markdown",
   "id": "2661c8c7",
   "metadata": {},
   "source": [
    "## Model hyper parameters"
   ]
  },
  {
   "cell_type": "code",
   "execution_count": 5,
   "id": "cfbfee7a",
   "metadata": {},
   "outputs": [
    {
     "name": "stdout",
     "output_type": "stream",
     "text": [
      "The number of layers selected are 10\n"
     ]
    }
   ],
   "source": [
    "steps = 10000\n",
    "lr = 1e-4\n",
    "input_dim = X_real.shape[1]\n",
    "output_dim = Theta_real.shape[1]\n",
    "layers = np.array([input_dim,20,20,20,20,20,20,20,20,output_dim]) #number of neurons for each layer\n",
    "print(\"The number of layers selected are\", layers.size)"
   ]
  },
  {
   "cell_type": "markdown",
   "id": "be3d64b7",
   "metadata": {},
   "source": [
    "## Deep NN class"
   ]
  },
  {
   "cell_type": "code",
   "execution_count": 6,
   "id": "6e943c8a",
   "metadata": {},
   "outputs": [],
   "source": [
    "#  Deep Neural Network\n",
    "class DNN(nn.Module):\n",
    "    def __init__(self,layers):\n",
    "        super().__init__() #call __init__ from parent class \n",
    "              \n",
    "        'activation function'\n",
    "        self.activation = nn.Tanh()\n",
    "    \n",
    "        'Initialize neural network as a list using nn.Modulelist'  \n",
    "        self.linears = nn.ModuleList([nn.Linear(layers[i], layers[i+1]) for i in range(len(layers) - 1)])\n",
    "    \n",
    "        'Xavier Normal Initialization'\n",
    "        for i in range(len(layers)-1):\n",
    "            \n",
    "            nn.init.xavier_normal_(self.linears[i].weight.data, gain=1.0)\n",
    "            \n",
    "            # set biases to zero\n",
    "            nn.init.zeros_(self.linears[i].bias.data)\n",
    "            \n",
    "    'foward pass'\n",
    "    def forward(self,x):\n",
    "              \n",
    "        if torch.is_tensor(x) != True:         \n",
    "            x = torch.from_numpy(x)                \n",
    "        \n",
    "        u_b = torch.from_numpy(ub).float().to(device)\n",
    "        l_b = torch.from_numpy(lb).float().to(device)\n",
    "                      \n",
    "        #preprocessing input \n",
    "        x = (x - l_b)/(u_b - l_b) #feature scaling\n",
    "        \n",
    "        #convert to float\n",
    "        a = x.float()\n",
    "        \n",
    "        # inpunt and hidden layers forward computation\n",
    "        for i in range(len(layers)-2):\n",
    "            \n",
    "            z = self.linears[i](a)\n",
    "                        \n",
    "            a = self.activation(z)\n",
    "\n",
    "        # output layer forward computation            \n",
    "        a = self.linears[-1](a)\n",
    "        \n",
    "        return a"
   ]
  },
  {
   "cell_type": "markdown",
   "id": "717cdae6",
   "metadata": {},
   "source": [
    "## PINN class"
   ]
  },
  {
   "cell_type": "code",
   "execution_count": 15,
   "id": "b71242dd",
   "metadata": {},
   "outputs": [],
   "source": [
    "class PINN():\n",
    "    def __init__(self, layers):\n",
    "        \n",
    "        'Define loss function'\n",
    "        self.loss_function = nn.MSELoss(reduction ='mean')\n",
    "        \n",
    "        'Initialize iterator'\n",
    "        self.iter = 0\n",
    "        \n",
    "        'Initialize our new parameter G, N, ec, eg as tensor (Inverse problem)' \n",
    "        self.G = torch.tensor([float(G)], requires_grad=True).float().to(device)  \n",
    "        self.N = torch.tensor([float(N)], requires_grad=True).float().to(device)  \n",
    "        self.ec = torch.tensor([float(ec)], requires_grad=True).float().to(device)  \n",
    "        self.eg = torch.tensor([float(eg)], requires_grad=True).float().to(device)  \n",
    "\n",
    "                \n",
    "        'Register parametes to be optimized'\n",
    "        self.G = nn.Parameter(self.G)\n",
    "        self.N= nn.Parameter(self.N)\n",
    "        self.ec= nn.Parameter(self.ec)\n",
    "        self.eg= nn.Parameter(self.eg)\n",
    "\n",
    "        'Initialize our DNN'\n",
    "        self.dnn = DNN(layers).to(device)\n",
    "        \n",
    "        'Register our new parameter'\n",
    "        self.dnn.register_parameter('G', self.G)  \n",
    "        self.dnn.register_parameter('N', self.N)  \n",
    "        self.dnn.register_parameter('ec', self.ec)  \n",
    "        self.dnn.register_parameter('eg', self.eg)  \n",
    "\n",
    "    def loss_data(self,x,u):\n",
    "        \n",
    "        if torch.is_tensor(x) != True:         \n",
    "            x = torch.from_numpy(x)\n",
    "            \n",
    "        if torch.is_tensor(u) != True:         \n",
    "            u = torch.from_numpy(u)               \n",
    "        \n",
    "        loss_u = self.loss_function(self.dnn(x), u)\n",
    "        \n",
    "        return loss_u\n",
    "        \n",
    "    def loss_PDE(self, X_train_f):\n",
    "        \n",
    "        if torch.is_tensor(X_train_f) != True:         \n",
    "            X_train_f = torch.from_numpy(X_train_f)     \n",
    "                   \n",
    "        # extract the PDE parameters\n",
    "        G = self.G\n",
    "        N = self.N\n",
    "        ec = self.ec\n",
    "        eg = self.eg\n",
    "\n",
    "        # clone the input data and add AD\n",
    "        x = X_train_f.clone()\n",
    "        x.requires_grad = True\n",
    "        \n",
    "        # predict theta\n",
    "        theta = self.dnn(x)\n",
    "\n",
    "        # compute derivatives \n",
    "        theta_x = autograd.grad(theta, x, torch.ones([X_train_f.shape[0], 1]).to(device), retain_graph=True, create_graph=True)[0]\n",
    "        \n",
    "        # copmute term to be derived\n",
    "        aux = (1 + ec * theta) * theta_x\n",
    "        \n",
    "        aux_x = autograd.grad(aux, x, torch.ones(X_train_f.shape).to(device), create_graph=True)[0]\n",
    "                \n",
    "        # PDE f  = 0\n",
    "        f = aux_x - N**2 * theta + N**2 * G * (1 + eg * theta)   \n",
    "\n",
    "        # f_hat is just an auxiliar term to copmute the loss (is zero)\n",
    "        loss_f = self.loss_function(f,f_hat)\n",
    "                \n",
    "        return loss_f\n",
    "    \n",
    "    def loss(self,x_u,u,x_f):\n",
    "\n",
    "        loss_u = self.loss_data(x_u, u)\n",
    "        loss_f = self.loss_PDE(x_f)\n",
    "        \n",
    "        loss_val = loss_u + loss_f\n",
    "        \n",
    "        return loss_val\n",
    "     \n",
    "#     'callable for optimizer'                                       \n",
    "#     def closure(self):\n",
    "        \n",
    "#         optimizer.zero_grad()\n",
    "        \n",
    "#         loss = self.loss(X_real, Theta_real, X_train_f)\n",
    "        \n",
    "#         loss.backward()\n",
    "                \n",
    "#         self.iter += 1\n",
    "        \n",
    "#         print(\n",
    "#             'Loss error(Train): %.5f , G_real = [%.5f], G_PINN = [%.5f]' %\n",
    "#             (\n",
    "#                 loss.cpu().detach().numpy(),\n",
    "#                 G_real,\n",
    "#                 self.G.item(),\n",
    "#             )\n",
    "#         )\n",
    "                \n",
    "\n",
    "#         return loss        \n",
    "    \n",
    "    'foward pass'\n",
    "    def forward(self,x):\n",
    "        return self.dnn(x)\n",
    "    \n",
    "    'test neural network'\n",
    "    def test(self):\n",
    "                \n",
    "        theta_pred = self.dnn(X_real)\n",
    "        \n",
    "        error_vec = torch.linalg.norm((Theta_real - theta_pred),2)/torch.linalg.norm(Theta_real,2)        # Relative L2 Norm of the error (Vector)\n",
    "        \n",
    "        theta_pred = theta_pred.cpu().detach().numpy()\n",
    "                        \n",
    "        return error_vec, theta_pred"
   ]
  },
  {
   "cell_type": "code",
   "execution_count": 8,
   "id": "2cfb393c",
   "metadata": {
    "scrolled": true
   },
   "outputs": [
    {
     "name": "stdout",
     "output_type": "stream",
     "text": [
      "Te real G = [ [[0.70303543]] ]. Our initial guess will be G_PINN= [ 0.5 ]\n",
      "Our initial of the other params are: \n",
      " N  = [ 2 ]\n",
      " eg = [ 0.2 ] \n",
      " ec = [ 0.4 ]\n"
     ]
    }
   ],
   "source": [
    "G = .5\n",
    "N = 2\n",
    "ec = .4\n",
    "eg = .2\n",
    "print(\"Te real G = [\",G_real,\"]. Our initial guess will be G_PINN= [\",G,\"]\")\n",
    "print(\"Our initial of the other params are: \\n N  = [\",N,\"]\\n eg = [\",eg,\"] \\n ec = [\",ec,\"]\")"
   ]
  },
  {
   "cell_type": "markdown",
   "id": "5a75d10f",
   "metadata": {},
   "source": [
    "## Train the model\n"
   ]
  },
  {
   "cell_type": "code",
   "execution_count": 16,
   "id": "bb1f10fa",
   "metadata": {
    "scrolled": false
   },
   "outputs": [
    {
     "name": "stdout",
     "output_type": "stream",
     "text": [
      "DNN(\n",
      "  (activation): Tanh()\n",
      "  (linears): ModuleList(\n",
      "    (0): Linear(in_features=1, out_features=20, bias=True)\n",
      "    (1): Linear(in_features=20, out_features=20, bias=True)\n",
      "    (2): Linear(in_features=20, out_features=20, bias=True)\n",
      "    (3): Linear(in_features=20, out_features=20, bias=True)\n",
      "    (4): Linear(in_features=20, out_features=20, bias=True)\n",
      "    (5): Linear(in_features=20, out_features=20, bias=True)\n",
      "    (6): Linear(in_features=20, out_features=20, bias=True)\n",
      "    (7): Linear(in_features=20, out_features=20, bias=True)\n",
      "    (8): Linear(in_features=20, out_features=1, bias=True)\n",
      "  )\n",
      ")\n"
     ]
    }
   ],
   "source": [
    "'Neural Network Summary'\n",
    "pinn = PINN(layers)\n",
    "print(pinn.dnn)\n",
    "\n",
    "'Neural Network Parameters'\n",
    "params = list(pinn.dnn.parameters())\n",
    "\n",
    "'L-BFGS Optimizer'\n",
    "optimizer = torch.optim.Adam(params, lr, \n",
    "                             amsgrad = True)\n",
    "#                               max_iter = steps, \n",
    "#                               max_eval = None, \n",
    "#                               tolerance_grad = 1e-11, \n",
    "#                               tolerance_change = 1e-15, \n",
    "#                               history_size = 100, \n",
    "#                               line_search_fn = 'strong_wolfe')\n",
    "# 'Test loss u methods'\n",
    "# y_nn =pinn.dnn(X_real)\n",
    "# loss_theta_manufacuted = pinn.loss_function(y_nn, Theta_real)\n",
    "# print(loss_theta_manufacuted)\n",
    "# loss_theta = pinn.loss_data(X_real, Theta_real)\n",
    "# print(loss_theta)\n",
    "# assert(loss_theta_manufacuted == loss_theta)\n",
    "\n",
    "# 'Test loss f methods'\n",
    "# loss_pde = pinn.loss_PDE(X_train_f)\n",
    "\n",
    "# 'Test overeall loss'\n",
    "# loss_manufactured = loss_pde + loss_theta\n",
    "# overall_loss = pinn.loss(X_real, Theta_real, X_train_f)\n",
    "# print(loss_manufactured.to_numpy())\n",
    "# print(overall_loss)\n",
    "# assert(loss_theta_manufacuted == overall_loss)\n",
    "\n",
    "\n",
    "# # start_time = time.time()\n",
    "# 'Test Optimizer step'\n",
    "# optimizer.zero_grad()\n",
    "\n",
    "# loss = pinn.loss(X_real, Theta_real, X_train_f)\n",
    "# print(loss)\n",
    "# loss.backward()\n",
    "# loss_after_backawrd = pinn.closure()\n",
    "# print(loss_after_backawrd)\n",
    "# assert(loss_after_backawrd == loss)\n",
    "\n",
    "\n",
    "'Store losses and predicted G values'\n",
    "loss_theta = np.zeros((steps,))\n",
    "loss_f = np.zeros((steps,))\n",
    "loss_hist = np.zeros((steps,))\n",
    "G_hist = np.zeros((steps,))\n",
    "N_hist = np.zeros((steps,))\n",
    "ec_hist = np.zeros((steps,))\n",
    "eg_hist = np.zeros((steps,))\n",
    "\n",
    "\n",
    "'Train the model'\n",
    "for epoch in range(steps):\n",
    "    # compute net U prediction\n",
    "    theta_nn = pinn.dnn(X_real)\n",
    "    # compute losses\n",
    "    loss_theta[epoch] = pinn.loss_data(X_real, Theta_real).to('cpu').detach().numpy()\n",
    "    loss_f[epoch] = pinn.loss_PDE(X_train_f).to('cpu').detach().numpy()\n",
    "    loss = pinn.loss(X_real, Theta_real, X_train_f)\n",
    "    loss_hist[epoch] = loss.to('cpu').detach().numpy()\n",
    "    # store parameters \n",
    "    G_hist[epoch], N_hist[epoch], ec_hist[epoch], eg_hist[epoch]  = pinn.G, pinn.N, pinn.ec, pinn.eg\n",
    "    \n",
    "    # update parameters\n",
    "    optimizer.zero_grad()       # Zero Out the gradient\n",
    "    loss.backward()    \n",
    "    optimizer.step()\n",
    "    \n",
    "    test_error, _ = pinn.test()\n"
   ]
  },
  {
   "cell_type": "markdown",
   "id": "e14e2c37",
   "metadata": {},
   "source": [
    "# Losses vs num epochs "
   ]
  },
  {
   "cell_type": "code",
   "execution_count": 17,
   "id": "3d0a8c0f",
   "metadata": {},
   "outputs": [
    {
     "data": {
      "image/png": "[encoded data removed]",
      "text/plain": [
       "<Figure size 640x480 with 1 Axes>"
      ]
     },
     "metadata": {},
     "output_type": "display_data"
    }
   ],
   "source": [
    "plt.cla()\n",
    "plt.plot(range(steps),loss_theta, label = r'loss $\\theta_{nn} - \\theta_{m}$')\n",
    "plt.plot(range(steps),loss_f, label = r'loss $f_{PDE}$')\n",
    "plt.plot(range(steps),loss_hist, label = r'loss $PINN$')\n",
    "# plt.plot(range(steps),loss_theta + loss_f)\n",
    "\n",
    "plt.legend(loc='upper right', prop={'size': 8})\n",
    "plt.xlabel('# epoch')\n",
    "plt.yscale('log')\n",
    "plt.ylabel(r'$log_{10}$(loss)')\n",
    "plt.grid(True, which=\"both\", ls=\"-\")\n",
    "# plt.savefig('part1_outputs/figures/loss_vs_nepoch_without_norm.png')\n",
    "plt.show()"
   ]
  },
  {
   "cell_type": "markdown",
   "id": "7d574995",
   "metadata": {},
   "source": [
    "## PDE Parameters ($G$, $N$, $\\epsilon_c$, $\\epsilon_g$) value vs num epochs"
   ]
  },
  {
   "cell_type": "code",
   "execution_count": 18,
   "id": "d617feb4",
   "metadata": {
    "scrolled": true
   },
   "outputs": [
    {
     "data": {
      "image/png": "[encoded data removed]",
      "text/plain": [
       "<Figure size 640x480 with 1 Axes>"
      ]
     },
     "metadata": {},
     "output_type": "display_data"
    }
   ],
   "source": [
    "plt.cla()\n",
    "plt.plot(range(steps), G_hist, label = r'$G_{nn}$')\n",
    "plt.plot(range(steps), N_hist, label = r'$N_{nn}$')\n",
    "plt.plot(range(steps), ec_hist, label = r'$\\epsilon_{cnn}$')\n",
    "plt.plot(range(steps), eg_hist, label = r'$\\epsilon_{gnn}$')\n",
    "\n",
    "plt.plot(range(steps), G_real*np.ones((steps,1)), label = r'$G_{real}$', color = 'gold')\n",
    "plt.legend(loc='best', prop={'size': 8})\n",
    "plt.xlabel('# epoch')\n",
    "plt.ylabel(r'$G$')\n",
    "plt.grid(True, which=\"both\", ls=\"-\")\n"
   ]
  },
  {
   "cell_type": "markdown",
   "id": "5f632012",
   "metadata": {},
   "source": [
    "##  Plot $\\theta(x)$ solution"
   ]
  },
  {
   "cell_type": "code",
   "execution_count": 39,
   "id": "66b957f7",
   "metadata": {},
   "outputs": [
    {
     "data": {
      "text/plain": [
       "<matplotlib.legend.Legend at 0x7fda6f398310>"
      ]
     },
     "execution_count": 39,
     "metadata": {},
     "output_type": "execute_result"
    },
    {
     "data": {
      "image/png": "[encoded data removed]",
      "text/plain": [
       "<Figure size 640x480 with 1 Axes>"
      ]
     },
     "metadata": {},
     "output_type": "display_data"
    }
   ],
   "source": [
    "# compute theta values\n",
    "x_u = X_real\n",
    "theta_real = Theta_real.to('cpu').detach().numpy()\n",
    "x_f = X_train_f.to('cpu').detach().numpy()\n",
    "theta_nn = pinn.forward(X_train_f).to('cpu').detach().numpy()\n",
    "\n",
    "# plt.cla()\n",
    "plt.plot(x_f, theta_nn, label = r'$\\theta(x)_{nn}$')\n",
    "plt.scatter(x_u, theta_real, label = r'$\\theta_{real}$', color = 'gold')\n",
    "\n",
    "plt.xlabel('$x*$')\n",
    "plt.ylabel('$T(K)$')\n",
    "plt.legend(loc='upper left', prop={'size': 10})\n"
   ]
  }
 ],
 "metadata": {
  "kernelspec": {
   "display_name": "Python 3 (ipykernel)",
   "language": "python",
   "name": "python3"
  },
  "language_info": {
   "codemirror_mode": {
    "name": "ipython",
    "version": 3
   },
   "file_extension": ".py",
   "mimetype": "text/x-python",
   "name": "python",
   "nbconvert_exporter": "python",
   "pygments_lexer": "ipython3",
   "version": "3.10.8"
  }
 },
 "nbformat": 4,
 "nbformat_minor": 5
}
