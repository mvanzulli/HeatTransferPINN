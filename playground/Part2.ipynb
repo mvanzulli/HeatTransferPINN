{
 "cells": [
  {
   "cell_type": "markdown",
   "id": "15763539",
   "metadata": {},
   "source": [
    "## Problem statement"
   ]
  },
  {
   "cell_type": "markdown",
   "id": "b0c823a6",
   "metadata": {},
   "source": [
    "Next, take one of the samples from training dataset and use PINN [3] for estimating the value of\n",
    "G. Report the CPU/GPU time taken. You may use equation 4 for computing the residual loss."
   ]
  },
  {
   "cell_type": "code",
   "execution_count": 31,
   "id": "8122be4e",
   "metadata": {},
   "outputs": [],
   "source": [
    "import torch\n",
    "import imageio\n",
    "import torch\n",
    "import torch.nn as nn\n",
    "import torch.utils.data as Data\n",
    "from torch.autograd import Variable\n",
    "from torch.optim import SGD, LBFGS, Adam, RMSprop, SparseAdam\n",
    "from torch.utils.data import Dataset, DataLoader\n",
    "import numpy as np\n",
    "import pandas as pd\n",
    "from sklearn.model_selection import train_test_split\n",
    "from matplotlib import pyplot as plt"
   ]
  },
  {
   "cell_type": "markdown",
   "id": "1e3b08e3",
   "metadata": {},
   "source": [
    "### Load Data"
   ]
  },
  {
   "cell_type": "code",
   "execution_count": 60,
   "id": "0e7b6962",
   "metadata": {},
   "outputs": [],
   "source": [
    "## Load dataset\n",
    "relative_csv_path = \"./../src/data/raw/Dataset.csv\"\n",
    "split_ratio = 0.2\n",
    "\n",
    "# Load different temperatures samples \n",
    "fields = ['T1', 'T2', 'T3', 'T4' ,'T5', 'T6' ,'T7', 'T8' ,'T9']\n",
    "df_T = pd.read_csv(relative_csv_path, skipinitialspace=True, usecols=fields)\n",
    "X_train, X_test = train_test_split(df_T, test_size = split_ratio)\n",
    "\n",
    "# Load different G values \n",
    "fields = ['G']\n",
    "df_G = pd.read_csv(relative_csv_path, skipinitialspace=True, usecols=fields)\n",
    "Y_train, Y_test = train_test_split(df_G, test_size = split_ratio)\n",
    "\n",
    "# Convert into numpy arrays\n",
    "X_train = X_train.to_numpy()\n",
    "X_test = X_test.to_numpy()\n",
    "Y_test = Y_test.to_numpy()\n",
    "Y_train = Y_train.to_numpy()\n",
    "Y = df_T.to_numpy()"
   ]
  },
  {
   "cell_type": "markdown",
   "id": "f7de3ff6",
   "metadata": {},
   "source": [
    "## Data sample \n",
    "$$\n",
    "X = [T1,T2,T3,T4,T5,T6,T7,T8] \\rightarrow G1\n",
    "$$\n",
    "## Transform data to be like \n",
    "\n",
    " $$\n",
    "X = [\\\\\n",
    "     [T_{11}, X_{1}] \\rightarrow G_1\\\\ \n",
    "     [T_{12}, X_{2}] \\rightarrow G_1\\\\\n",
    "     [T_{13}, X_{3}] \\rightarrow G_1\\\\\n",
    "     [T_{14}, X_{4}] \\rightarrow G_1\\\\\n",
    "     [T_{15}, X_{5}] \\rightarrow G_1\\\\\n",
    "     [T_{16}, X_{6}] \\rightarrow G_1\\\\\n",
    "     [T_{17}, X_{7}] \\rightarrow G_1\\\\\n",
    "     [T_{18}, X_{8}] \\rightarrow G_1\\\\\n",
    "     [T_{21}, X_{1}] \\rightarrow G_2\\\\ \n",
    "     [T_{22}, X_{2}] \\rightarrow G_2\\\\\n",
    "     [T_{23}, X_{3}] \\rightarrow G_2\\\\\n",
    "     [T_{24}, X_{4}] \\rightarrow G_2\\\\\n",
    "     [T_{25}, X_{5}] \\rightarrow G_2\\\\\n",
    "     [T_{26}, X_{6}] \\rightarrow G_2\\\\\n",
    "     [T_{27}, X_{7}] \\rightarrow G_2\\\\\n",
    "     [T_{29}, X_{8}] \\rightarrow G_2\n",
    "]\n",
    "$$\n",
    "\n",
    "<!-- \n",
    "T2,T3,T4,T5,T6,T7,T8] \\rightarrow G1\n",
    "$$\n",
    "\n",
    "$\n",
    "X = [\n",
    "      [T_1, X_1] [G \n",
    "$ -->"
   ]
  },
  {
   "cell_type": "code",
   "execution_count": 70,
   "id": "c7bff3b6",
   "metadata": {},
   "outputs": [
    {
     "data": {
      "text/plain": [
       "array([[400.       ,   0.       ],\n",
       "       [399.4567608,   1.       ],\n",
       "       [398.9913926,   2.       ],\n",
       "       [398.6026878,   3.       ],\n",
       "       [398.2880965,   4.       ],\n",
       "       [398.0455468,   5.       ],\n",
       "       [397.8734362,   6.       ],\n",
       "       [397.7706244,   7.       ],\n",
       "       [397.7364294,   8.       ],\n",
       "       [400.       ,   0.       ],\n",
       "       [402.0234411,   1.       ],\n",
       "       [403.7437934,   2.       ]])"
      ]
     },
     "execution_count": 70,
     "metadata": {},
     "output_type": "execute_result"
    }
   ],
   "source": [
    "# Fill a X_train vector   \n",
    "X_row = X_train.reshape(-1,1)\n",
    "N_samples = X_row.shape[0]\n",
    "# Fill a X_train vector   \n",
    "# print(N_samples)\n",
    "X_train_pinn = np.zeros((N_samples, 2))\n",
    "for n in range(X_row.shape[0]):\n",
    "    X_train_pinn[n,0] = X_row[n]\n",
    "    X_train_pinn[n,1] = n % 9\n",
    "\n",
    "X_train_pinn[0:12,0:12]"
   ]
  },
  {
   "cell_type": "markdown",
   "id": "40072ec2",
   "metadata": {},
   "source": [
    "The input vector should have for each row $[[T_1, X_1], [T_2, X_2], [T_3, X_3], [T_4, X_4]] $"
   ]
  },
  {
   "cell_type": "code",
   "execution_count": null,
   "id": "f8d5bc21",
   "metadata": {},
   "outputs": [],
   "source": [
    "np.zeros()"
   ]
  },
  {
   "cell_type": "code",
   "execution_count": null,
   "id": "edfe5892",
   "metadata": {},
   "outputs": [],
   "source": [
    "np.random.seed(seed=1234)\n"
   ]
  }
 ],
 "metadata": {
  "kernelspec": {
   "display_name": "Python 3 (ipykernel)",
   "language": "python",
   "name": "python3"
  },
  "language_info": {
   "codemirror_mode": {
    "name": "ipython",
    "version": 3
   },
   "file_extension": ".py",
   "mimetype": "text/x-python",
   "name": "python",
   "nbconvert_exporter": "python",
   "pygments_lexer": "ipython3",
   "version": "3.10.8"
  }
 },
 "nbformat": 4,
 "nbformat_minor": 5
}
